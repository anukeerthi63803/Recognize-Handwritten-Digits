{
 "cells": [
  {
   "cell_type": "markdown",
   "id": "41df519f",
   "metadata": {},
   "source": [
    "# Recognize Handwritten Digit\n"
   ]
  },
  {
   "cell_type": "markdown",
   "id": "aaff403b",
   "metadata": {},
   "source": [
    "we import all the needed modules for training our model. We can easily import the dataset and start working on that because the Keras library already contains many datasets and MNIST is one of them. We call mnist.load_data() function to get training data with its labels and also the testing data with its labels."
   ]
  },
  {
   "cell_type": "code",
   "execution_count": 3,
   "id": "10efafbb",
   "metadata": {},
   "outputs": [
    {
     "name": "stdout",
     "output_type": "stream",
     "text": [
      "(60000, 28, 28) (60000,)\n"
     ]
    }
   ],
   "source": [
    "import keras \n",
    "from keras.datasets import mnist \n",
    "from keras.models import Sequential \n",
    "from keras.layers import Dense, Dropout, Flatten \n",
    "from keras.layers import Conv2D, MaxPooling2D \n",
    "from keras import backend as K\n",
    "(x_train, y_train), (x_test, y_test) = mnist.load_data()\n",
    "print(x_train.shape, y_train.shape) "
   ]
  },
  {
   "cell_type": "markdown",
   "id": "01035cbb",
   "metadata": {},
   "source": [
    "# The Data Preprocessing"
   ]
  },
  {
   "cell_type": "markdown",
   "id": "16d4bfbd",
   "metadata": {},
   "source": [
    "Model cannot take the image data directly so we need to perform some basic operations and process the data to make it ready for our neural network. The dimension of the training data is (60000*28*28). One more dimension is needed for the CNN model so we reshape the matrix to shape (60000*28*28*1)."
   ]
  },
  {
   "cell_type": "code",
   "execution_count": 4,
   "id": "19019708",
   "metadata": {},
   "outputs": [
    {
     "name": "stdout",
     "output_type": "stream",
     "text": [
      "x_train shape: (60000, 28, 28, 1)\n",
      "60000 train samples\n",
      "10000 test samples\n"
     ]
    }
   ],
   "source": [
    "x_train = x_train.reshape(x_train.shape[0],28, 28, 1) \n",
    "x_test = x_test.reshape(x_test.shape[0], 28, 28, 1)\n",
    "input_shape = (28, 28, 1)\n",
    "#convert class vectors to binary class matrices\n",
    "y_train = keras.utils.to_categorical(y_train, 10) \n",
    "y_test = keras.utils.to_categorical(y_test, 10)\n",
    "x_train = x_train.astype('float32') \n",
    "x_test = x_test.astype('float32') \n",
    "x_train /= 255 \n",
    "x_test /= 255 \n",
    "print('x_train shape:', x_train.shape)\n",
    "print(x_train.shape[0], 'train samples')\n",
    "print(x_test.shape[0], 'test samples') "
   ]
  },
  {
   "cell_type": "markdown",
   "id": "289b383b",
   "metadata": {},
   "source": [
    "# Create the model"
   ]
  },
  {
   "cell_type": "markdown",
   "id": "7ad90f90",
   "metadata": {},
   "source": [
    "Its time for the creation of the CNN model for this Python-based data science project. A convolutional layer and pooling layers are the two wheels of a CNN model. The reason behind the success of CNN for image classification problems is its feasibility with grid structured data. We will use the Adadelta optimizer for the model compilation."
   ]
  },
  {
   "cell_type": "code",
   "execution_count": null,
   "id": "75b657aa",
   "metadata": {},
   "outputs": [],
   "source": [
    "batch_size = 128 \n",
    "num_classes = 10 \n",
    "epochs = 20 \n",
    "\n",
    "model = Sequential()\n",
    "model.add(Conv2D(32, kernel_size=(3,3),activation='relu',input_shape=input_shape)) \n",
    "model.add(Conv2D(64, (3, 3),activation='relu'))\n",
    "model.add(MaxPooling2D(pool_size=(2,2))) \n",
    "model.add(Dropout(0.25))\n",
    "model.add(Flatten())\n",
    "model.add(Dense(256, activation='relu'))\n",
    "model.add(Dropout(0.5)) \n",
    "model.add(Dense(num_classes,activation='softmax'))\n",
    "\n",
    "model.compile(loss=keras.losses.categorical_crossentropy,optimizer=keras.optimizers.Adadelta(),metrics=['accuracy']) \n",
    "\n",
    "#Train the model\n",
    "hist = model.fit(x_train, y_train,batch_size=batch_size,epochs=epochs,verbose=1,validation_data=(x_test, y_test))\n",
    "\n",
    "print(\"The model has successfully trained\")\n",
    "model.save('mnist.h5')\n",
    "print(\"Saving the model as mnist.h5\")"
   ]
  },
  {
   "cell_type": "markdown",
   "id": "b51f3e37",
   "metadata": {},
   "source": [
    "# Evaluate the model"
   ]
  },
  {
   "cell_type": "markdown",
   "id": "c528c15a",
   "metadata": {},
   "source": [
    "To evaluate how accurate our model works, we have around 10,000 images in our dataset. In the training of the data model, we do not include the testing data that’s why it is new data for our model. Around 99% accuracy is achieved with this well-balanced MNIST dataset."
   ]
  },
  {
   "cell_type": "code",
   "execution_count": 6,
   "id": "e13d2cb6",
   "metadata": {},
   "outputs": [
    {
     "name": "stdout",
     "output_type": "stream",
     "text": [
      "Test loss: 0.4207440912723541\n",
      "Test accuracy: 0.8884999752044678\n"
     ]
    }
   ],
   "source": [
    "score = model.evaluate(x_test, y_test, verbose=0)\n",
    "print('Test loss:', score[0])\n",
    "print('Test accuracy:', score[1])"
   ]
  },
  {
   "cell_type": "markdown",
   "id": "b0118691",
   "metadata": {},
   "source": [
    "# Create GUI to predict digits"
   ]
  },
  {
   "cell_type": "markdown",
   "id": "aaf512cd",
   "metadata": {},
   "source": [
    "To build an interactive window we have created a new file in GUI. In this file, you can draw digits on canvas, and by clicking a button, you can identify the digit. The Tkinter library is the part of Python standard library. Our predict_digit() method takes the picture as input and then activates the trained model to predict the digit.\n",
    "\n",
    "After that to build the GUI for our app we have created the App class. In GUI canvas you can draw a digit by capturing the mouse event and with a button click, we hit the predict_digit() function and show the results.\n",
    "\n",
    "Below is the full code for our guidigit_recog.py file:"
   ]
  },
  {
   "cell_type": "code",
   "execution_count": 7,
   "id": "977b6d28",
   "metadata": {},
   "outputs": [
    {
     "name": "stdout",
     "output_type": "stream",
     "text": [
      "1/1 [==============================] - 0s 91ms/step\n",
      "1/1 [==============================] - 0s 22ms/step\n",
      "1/1 [==============================] - 0s 21ms/step\n",
      "1/1 [==============================] - 0s 23ms/step\n",
      "1/1 [==============================] - 0s 20ms/step\n",
      "1/1 [==============================] - 0s 21ms/step\n",
      "1/1 [==============================] - 0s 20ms/step\n",
      "1/1 [==============================] - 0s 22ms/step\n"
     ]
    }
   ],
   "source": [
    "from keras.models import load_model\n",
    "from tkinter import *\n",
    "import tkinter as tk\n",
    "import win32gui\n",
    "from PIL import ImageGrab, Image\n",
    "import numpy as np\n",
    "\n",
    "\n",
    "model = load_model('mnist.h5')\n",
    "\n",
    "def predict_digit(img):\n",
    " #resize image to 28x28 pixels\n",
    " img = img.resize((28,28))\n",
    " #convert rgb to grayscale\n",
    " img = img.convert('L')\n",
    " img = np.array(img)\n",
    " #reshaping to support our model input and normalizing\n",
    " img = img.reshape(1,28,28,1)\n",
    " img = img/255.0\n",
    " #predicting the class\n",
    " res = model.predict([img])[0]\n",
    " return np.argmax(res), max(res)\n",
    "\n",
    "class App(tk.Tk):\n",
    " def __init__(self):\n",
    "     tk.Tk.__init__(self)\n",
    "        \n",
    "     self.x = self.y = 0\n",
    "    \n",
    "    \n",
    "     # Creating elements\n",
    "     self.canvas = tk.Canvas(self, width=300, height=300, bg = \"white\", cursor=\"cross\")\n",
    "     self.label = tk.Label(self, text=\"Thinking..\", font=(\"Helvetica\", 48))\n",
    "     self.classify_btn = tk.Button(self, text = \"Recognise\", command = self.classify_handwriting)\n",
    "     self.button_clear = tk.Button(self, text = \"Clear\", command = self.clear_all)\n",
    "\n",
    "     # Grid structure\n",
    "     self.canvas.grid(row=0, column=0, pady=2, sticky=W, )\n",
    "     self.label.grid(row=0, column=1,pady=2, padx=2)\n",
    "     self.classify_btn.grid(row=1, column=1, pady=2, padx=2)\n",
    "     self.button_clear.grid(row=1, column=0, pady=2)\n",
    "    \n",
    "     #self.canvas.bind(\"<Motion>\", self.start_pos)\n",
    "     self.canvas.bind(\"<B1-Motion>\", self.draw_lines)\n",
    "    \n",
    " def clear_all(self):\n",
    "     self.canvas.delete(\"all\")\n",
    "        \n",
    " def classify_handwriting(self):\n",
    "     HWND = self.canvas.winfo_id() # get the handle of the canvas\n",
    "     rect = win32gui.GetWindowRect(HWND) # get the coordinate of the canvas\n",
    "     im = ImageGrab.grab(rect)\n",
    "        \n",
    "     digit, acc = predict_digit(im)\n",
    "     self.label.configure(text= str(digit)+', '+ str(int(acc*100))+'%')\n",
    "        \n",
    " def draw_lines(self, event):\n",
    "     self.x = event.x\n",
    "     self.y = event.y\n",
    "     r=8\n",
    " self.canvas.create_oval(self.x-r, self.y-r, self.x + r, self.y + r, fill='black')\n",
    "app = App()\n",
    "mainloop()"
   ]
  },
  {
   "cell_type": "markdown",
   "id": "8424e8c8",
   "metadata": {},
   "source": [
    "# Conclusion"
   ]
  },
  {
   "cell_type": "markdown",
   "id": "7ad261e3",
   "metadata": {},
   "source": [
    "This project is beginner-friendly and can be used by data science newbies. We have created and deployed a successful deep learning project of digit recognition. We build the GUI for easy learning where we draw a digit on the canvas then we classify the digit and show the results."
   ]
  }
 ],
 "metadata": {
  "kernelspec": {
   "display_name": "Python 3 (ipykernel)",
   "language": "python",
   "name": "python3"
  },
  "language_info": {
   "codemirror_mode": {
    "name": "ipython",
    "version": 3
   },
   "file_extension": ".py",
   "mimetype": "text/x-python",
   "name": "python",
   "nbconvert_exporter": "python",
   "pygments_lexer": "ipython3",
   "version": "3.9.13"
  }
 },
 "nbformat": 4,
 "nbformat_minor": 5
}
